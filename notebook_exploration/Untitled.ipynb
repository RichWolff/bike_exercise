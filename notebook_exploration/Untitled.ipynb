{
 "cells": [
  {
   "cell_type": "code",
   "execution_count": 19,
   "metadata": {},
   "outputs": [],
   "source": [
    "from pathlib import Path\n",
    "from collections import namedtuple\n",
    "import pandas as pd\n",
    "import math\n",
    "import functools\n",
    "from collections import defaultdict\n",
    "from itertools import product\n",
    "import numpy as np\n",
    "from scipy.spatial.distance import cdist\n",
    "import logging\n",
    "import copy\n",
    "from city_slickers.request import Request, parse_request\n",
    "from city_slickers.utils import get_input\n",
    "from city_slickers.utils import initialize_vehicle\n",
    "from city_slickers.utils import initialize_bike_locations\n",
    "from city_slickers.utils import random_coordinates\n",
    "from city_slickers.vehicles import Truck, Bike\n",
    "from random import choice\n",
    "import networkx as nx\n",
    "import copy\n"
   ]
  },
  {
   "cell_type": "code",
   "execution_count": 11,
   "metadata": {},
   "outputs": [],
   "source": [
    "def get_revenue(starting_position, request):\n",
    "    rev_mask= [True if tuple(starting_position) == tuple(position) else False for position in request.get_possible_locations()]\n",
    "    return request.revenue[rev_mask][0][0]\n",
    "\n",
    "class Node:\n",
    "    def __init__(self, request, parent=None):\n",
    "        self.parent = parent\n",
    "        self.request = request\n",
    "        self.request_time = request.request_time\n",
    "        self.value = 0\n",
    "        self.children = []\n",
    "        self.max_value = 0\n",
    "        self.booked = False\n",
    "        \n",
    "    def __repr__(self):\n",
    "        return f\"Node(request_id={self.request.request_id}, request_time={self.request_time}, value={self.value}, max_value={self.max_value}, parent={self.parent})\"\n",
    "\n",
    "\n",
    "def _max_rev_start(request):\n",
    "    starting_position = tuple(request.starting_position)\n",
    "    pickup_spots = request.get_possible_locations()\n",
    "    time_booked = request.time_booked\n",
    "    revenue = request.revenue\n",
    "    rev_time = np.hstack([revenue,time_booked, pickup_spots])\n",
    "\n",
    "    max_revenue_mask = [True if rev[0] == max(rev_time[:,0]) else False for rev in rev_time ]\n",
    "    return tuple(rev_time[max_revenue_mask][0,2:]), request.revenue[max_revenue_mask][0][0]\n",
    "\n",
    "def _min_time_start(request):\n",
    "    starting_position = tuple(request.starting_position)\n",
    "    pickup_spots = request.get_possible_locations()\n",
    "    time_booked = request.time_booked\n",
    "    revenue = request.revenue\n",
    "    time_pu = np.hstack([time_booked, pickup_spots])\n",
    "    min_time_booked = [True if time == min(time_pu[:,0]) else False for time in time_pu[:,0]]\n",
    "    return tuple(time_pu[min_time_booked][0,1:]), request.revenue[min_time_booked][0][0]\n",
    "    \n",
    "    \n",
    "def get_traversals2(T, g, node, start=False, init_method='max_revenue'):\n",
    "    \n",
    "    if start:\n",
    "        if init_method == 'shortest_time':\n",
    "            position, revenue = _min_time_start(node.request)\n",
    "        elif init_method == 'max_revenue':\n",
    "            position, revenue = _max_rev_start(node.request)\n",
    "    \n",
    "    # Get Children\n",
    "    children = list(T[node.request])\n",
    "    \n",
    "    # get revenue to this node from parent\n",
    "    if node.parent is not None:\n",
    "        revenue = get_revenue(node.parent.request.ending_position, node.request)  \n",
    "    \n",
    "    # If no children, get final value from this path\n",
    "    if len(children) == 0:\n",
    "        node.value = revenue\n",
    "        node.max_value = revenue\n",
    "        return node\n",
    "    else:\n",
    "        # For each children, get revenue to chil\n",
    "        for child in children:\n",
    "            child_node = Node(request=child, parent=node)\n",
    "            edge_data = g.get_edge_data(requests[node.request.request_id], requests[child_node.request.request_id])\n",
    "            node.children.append(get_traversals2(T, g, child_node))\n",
    "        \n",
    "        # Value this node as max revenue from children\n",
    "        node.value = revenue\n",
    "        node.max_value = revenue + max(node.children, key=lambda x :x.max_value).max_value\n",
    "        return node"
   ]
  },
  {
   "cell_type": "code",
   "execution_count": 12,
   "metadata": {},
   "outputs": [],
   "source": [
    "# Build Temporal Grid\n",
    "def build_temporal_grid(requests):\n",
    "    temporal_grid = defaultdict(lambda: defaultdict(list))\n",
    "    for req in requests:\n",
    "        for pickup_site in req.get_possible_locations():\n",
    "            temporal_grid[req.request_time][tuple(pickup_site)].append(req)\n",
    "    return temporal_grid"
   ]
  },
  {
   "cell_type": "code",
   "execution_count": 13,
   "metadata": {},
   "outputs": [],
   "source": [
    "# create DAG\n",
    "def create_dag(requests):\n",
    "    g = nx.DiGraph()\n",
    "    for request in requests:\n",
    "        g.add_node(request, request_time=request.request_time)\n",
    "    return g"
   ]
  },
  {
   "cell_type": "code",
   "execution_count": 14,
   "metadata": {},
   "outputs": [],
   "source": [
    "# ADD EDGES\n",
    "def add_dag_edges(g, requests, temporal_grid, seconds_from_max=None):\n",
    "    if seconds_from_max is None:\n",
    "        max_request_time = max(requests, key=lambda x: x.request_time).request_time\n",
    "        seconds_from_current = max_request_time\n",
    "        \n",
    "    for request in requests:\n",
    "        mask = [True if tuple(request.starting_position) == tuple(position) else False for position in request.get_possible_locations()]\n",
    "        arrival_time = request.arrival_time[mask][0][0]\n",
    "        revenue = request.revenue[mask][0][0]\n",
    "\n",
    "        position = tuple(request.ending_position)\n",
    "        for second in range(seconds_from_current):\n",
    "            results = temporal_grid[arrival_time+second][position]\n",
    "            if results == []:\n",
    "                continue\n",
    "            else:\n",
    "                for result in results:\n",
    "                    if result.request_time < arrival_time:\n",
    "                        continue\n",
    "                    time_to_booking = result.request_time - request.time_booked[mask][0][0]\n",
    "                    g.add_edge(request, result, time_to_booking=time_to_booking, revenue=revenue)\n",
    "    return g\n"
   ]
  },
  {
   "cell_type": "code",
   "execution_count": 15,
   "metadata": {},
   "outputs": [],
   "source": [
    "def build_paths(requests):\n",
    "    # Read Data\n",
    "    temporal_grid = build_temporal_grid(requests)\n",
    "    g = create_dag(requests)\n",
    "    g = add_dag_edges(g, requests, temporal_grid)\n",
    "    \n",
    "    result = []\n",
    "    for request in requests:\n",
    "        root = Node(request=request, parent=None)\n",
    "        T = nx.bfs_tree(g, source=request)\n",
    "        result.append(get_traversals2(T, g, Node(request), start=True, init_method='max_revenue'))\n",
    "    return sorted(result, key=lambda x: -x.max_value)\n",
    "    "
   ]
  },
  {
   "cell_type": "code",
   "execution_count": 16,
   "metadata": {},
   "outputs": [],
   "source": [
    "# Read Data\n",
    "file = Path(r'..\\data\\raw\\ctsten0244_input_3.txt')\n",
    "city_instructions, requests = get_input(file)"
   ]
  },
  {
   "cell_type": "code",
   "execution_count": 17,
   "metadata": {},
   "outputs": [],
   "source": [
    "# Read Data\n",
    "results = build_paths(requests)"
   ]
  },
  {
   "cell_type": "code",
   "execution_count": 51,
   "metadata": {},
   "outputs": [],
   "source": [
    "# Print paths\n",
    "def print_path(node, bike):\n",
    "    try:\n",
    "        _cached_requests.remove(node.request)\n",
    "    except:\n",
    "        return\n",
    "    print(f\"{node.request_time}|RENT B{bike} R{node.request.request_id}\")\n",
    "    \n",
    "    if len(node.children) == 0:\n",
    "        return None\n",
    "    else:\n",
    "        print_path(max(node.children, key=lambda x: x.max_value), bike)\n",
    "    return None\n",
    "    "
   ]
  },
  {
   "cell_type": "code",
   "execution_count": 56,
   "metadata": {},
   "outputs": [],
   "source": [
    "def iterate_paths(requests, bikes):\n",
    "    _cached_requests = copy.copy(requests)\n",
    "    for i in range(bikes):\n",
    "        results = build_paths(_cached_requests)\n",
    "        print_path(results[0], i)\n"
   ]
  },
  {
   "cell_type": "code",
   "execution_count": 57,
   "metadata": {},
   "outputs": [],
   "source": [
    "iterate_paths(requests, city_instructions.bikes)"
   ]
  },
  {
   "cell_type": "code",
   "execution_count": 59,
   "metadata": {},
   "outputs": [],
   "source": [
    "G = nx.DiGraph()"
   ]
  },
  {
   "cell_type": "code",
   "execution_count": 65,
   "metadata": {},
   "outputs": [
    {
     "data": {
      "text/plain": [
       "OutEdgeView([(1, 2)])"
      ]
     },
     "execution_count": 65,
     "metadata": {},
     "output_type": "execute_result"
    }
   ],
   "source": [
    "G.add_node(1)\n",
    "G.add_node(2)\n",
    "add_edge(G)\n",
    "G.edges"
   ]
  },
  {
   "cell_type": "code",
   "execution_count": 63,
   "metadata": {},
   "outputs": [],
   "source": [
    "def add_edge(G):\n",
    "    G.add_edge(1,2)\n",
    "    "
   ]
  },
  {
   "cell_type": "code",
   "execution_count": null,
   "metadata": {},
   "outputs": [],
   "source": []
  }
 ],
 "metadata": {
  "kernelspec": {
   "display_name": "Python 3",
   "language": "python",
   "name": "python3"
  },
  "language_info": {
   "codemirror_mode": {
    "name": "ipython",
    "version": 3
   },
   "file_extension": ".py",
   "mimetype": "text/x-python",
   "name": "python",
   "nbconvert_exporter": "python",
   "pygments_lexer": "ipython3",
   "version": "3.7.4"
  }
 },
 "nbformat": 4,
 "nbformat_minor": 2
}
